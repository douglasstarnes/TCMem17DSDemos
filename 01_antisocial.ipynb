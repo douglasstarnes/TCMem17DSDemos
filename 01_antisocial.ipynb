{
 "cells": [
  {
   "cell_type": "markdown",
   "metadata": {},
   "source": [
    "#### Get the JSON data"
   ]
  },
  {
   "cell_type": "code",
   "execution_count": 1,
   "metadata": {},
   "outputs": [
    {
     "data": {
      "text/plain": [
       "'[{\"id\": \"132873\", \"guidislink\": false, \"links\": [{\"rel\": \"alternate\", \"type\": \"text/html\", \"href\": \"https://stackoverflow.com/jobs/132873/developpeur-web-python-senior-h-f-ooreka?a=IyOladG2aAM\"}], \"li'"
      ]
     },
     "execution_count": 1,
     "metadata": {},
     "output_type": "execute_result"
    }
   ],
   "source": [
    "f = open('data/jobs.json', 'r')\n",
    "lines = f.readlines()\n",
    "\n",
    "lines[0][:200]\n",
    "\n"
   ]
  },
  {
   "cell_type": "code",
   "execution_count": 2,
   "metadata": {
    "collapsed": true
   },
   "outputs": [],
   "source": [
    "job_data = ''.join([line for line in lines])"
   ]
  },
  {
   "cell_type": "code",
   "execution_count": 3,
   "metadata": {
    "collapsed": true
   },
   "outputs": [],
   "source": [
    "import json\n",
    "\n",
    "jobs = json.loads(job_data)"
   ]
  },
  {
   "cell_type": "markdown",
   "metadata": {},
   "source": [
    "#### Structure of a job"
   ]
  },
  {
   "cell_type": "code",
   "execution_count": 4,
   "metadata": {},
   "outputs": [
    {
     "data": {
      "text/plain": [
       "{'author': 'Ooreka',\n",
       " 'author_detail': {'name': 'Ooreka'},\n",
       " 'authors': [{'name': 'Ooreka'}],\n",
       " 'guidislink': False,\n",
       " 'id': '132873',\n",
       " 'link': 'https://stackoverflow.com/jobs/132873/developpeur-web-python-senior-h-f-ooreka?a=IyOladG2aAM',\n",
       " 'links': [{'href': 'https://stackoverflow.com/jobs/132873/developpeur-web-python-senior-h-f-ooreka?a=IyOladG2aAM',\n",
       "   'rel': 'alternate',\n",
       "   'type': 'text/html'}],\n",
       " 'location': 'Boulogne-Billancourt, France',\n",
       " 'published': 'Thu, 11 May 2017 13:42:06 Z',\n",
       " 'published_parsed': [2017, 5, 11, 13, 42, 6, 3, 131, 0],\n",
       " 'summary': '<p><strong>Ooreka : la start-up qui monte !</strong><br>Avec 10 millions de visiteurs uniques par mois, Ooreka touche un internaute fran&ccedil;ais sur 5, et est ainsi rentr&eacute; dans le top 50 des sites internet fran&ccedil;ais incontournables.<br>Ooreka r&eacute;pond &agrave; un besoin essentiel en offrant un site o&ugrave; de v&eacute;ritables experts apportent des r&eacute;ponses claires &agrave; toutes les questions de la vie quotidienne. Ainsi, Ooreka &eacute;vite &agrave; tout un chacun de passer des heures &agrave; d&eacute;cortiquer les forums.<br>Ooreka a 10 ans et se compose de 40 oorekiens jeunes et enthousiastes. Aujourd&rsquo;hui l&rsquo;entreprise se r&eacute;invente avec une refonte du site et la cr&eacute;ation de nouveaux produits.<br>Mission<br>Vous rejoindrez une &eacute;quipe tech en pleine croissance pour participer de fa&ccedil;on agile &agrave; la nouvelle g&eacute;n&eacute;ration du site et &agrave; la livraison de nouveaux projets ambitieux (moteur de recherche, chatbot, video, mobiles, etc).<br>La refonte du site s&rsquo;accompagne d&rsquo;une refonte technique avec le passage des outils php avec framework maison &agrave; une architecture micro-services en python sur AWS.<br>D&eacute;veloppeur web python exp&eacute;riment&eacute;, vous serez force de proposition sur la fa&ccedil;on dont mener les d&eacute;veloppements. Vous contribuerez &agrave; diffuser les bonnes pratiques et &agrave; recruter.<br><br></p>',\n",
       " 'summary_detail': {'base': 'https://stackoverflow.com/jobs/feed',\n",
       "  'language': None,\n",
       "  'type': 'text/html',\n",
       "  'value': '<p><strong>Ooreka : la start-up qui monte !</strong><br>Avec 10 millions de visiteurs uniques par mois, Ooreka touche un internaute fran&ccedil;ais sur 5, et est ainsi rentr&eacute; dans le top 50 des sites internet fran&ccedil;ais incontournables.<br>Ooreka r&eacute;pond &agrave; un besoin essentiel en offrant un site o&ugrave; de v&eacute;ritables experts apportent des r&eacute;ponses claires &agrave; toutes les questions de la vie quotidienne. Ainsi, Ooreka &eacute;vite &agrave; tout un chacun de passer des heures &agrave; d&eacute;cortiquer les forums.<br>Ooreka a 10 ans et se compose de 40 oorekiens jeunes et enthousiastes. Aujourd&rsquo;hui l&rsquo;entreprise se r&eacute;invente avec une refonte du site et la cr&eacute;ation de nouveaux produits.<br>Mission<br>Vous rejoindrez une &eacute;quipe tech en pleine croissance pour participer de fa&ccedil;on agile &agrave; la nouvelle g&eacute;n&eacute;ration du site et &agrave; la livraison de nouveaux projets ambitieux (moteur de recherche, chatbot, video, mobiles, etc).<br>La refonte du site s&rsquo;accompagne d&rsquo;une refonte technique avec le passage des outils php avec framework maison &agrave; une architecture micro-services en python sur AWS.<br>D&eacute;veloppeur web python exp&eacute;riment&eacute;, vous serez force de proposition sur la fa&ccedil;on dont mener les d&eacute;veloppements. Vous contribuerez &agrave; diffuser les bonnes pratiques et &agrave; recruter.<br><br></p>'},\n",
       " 'tags': [{'label': None, 'scheme': None, 'term': 'python'},\n",
       "  {'label': None, 'scheme': None, 'term': 'django'}],\n",
       " 'title': 'Developpeur web Python senior H/F at Ooreka (Boulogne-Billancourt, France) (allows remote)',\n",
       " 'title_detail': {'base': 'https://stackoverflow.com/jobs/feed',\n",
       "  'language': None,\n",
       "  'type': 'text/plain',\n",
       "  'value': 'Developpeur web Python senior H/F at Ooreka (Boulogne-Billancourt, France) (allows remote)'},\n",
       " 'updated': '2017-05-11T13:42:06Z',\n",
       " 'updated_parsed': [2017, 5, 11, 13, 42, 6, 3, 131, 0]}"
      ]
     },
     "execution_count": 4,
     "metadata": {},
     "output_type": "execute_result"
    }
   ],
   "source": [
    "jobs[0]"
   ]
  },
  {
   "cell_type": "code",
   "execution_count": 5,
   "metadata": {},
   "outputs": [
    {
     "data": {
      "text/plain": [
       "[{'label': None, 'scheme': None, 'term': 'python'},\n",
       " {'label': None, 'scheme': None, 'term': 'django'}]"
      ]
     },
     "execution_count": 5,
     "metadata": {},
     "output_type": "execute_result"
    }
   ],
   "source": [
    "jobs[0]['tags']"
   ]
  },
  {
   "cell_type": "markdown",
   "metadata": {},
   "source": [
    "#### Get all tags"
   ]
  },
  {
   "cell_type": "code",
   "execution_count": 6,
   "metadata": {
    "collapsed": true
   },
   "outputs": [],
   "source": [
    "tagged_jobs = [j for j in jobs if 'tags' in j.keys()]"
   ]
  },
  {
   "cell_type": "code",
   "execution_count": 7,
   "metadata": {
    "collapsed": true
   },
   "outputs": [],
   "source": [
    "flat_tags = [tag for taglist in tagged_jobs for tag in taglist['tags']]"
   ]
  },
  {
   "cell_type": "code",
   "execution_count": 8,
   "metadata": {},
   "outputs": [
    {
     "data": {
      "text/plain": [
       "[{'label': None, 'scheme': None, 'term': 'python'},\n",
       " {'label': None, 'scheme': None, 'term': 'django'},\n",
       " {'label': None, 'scheme': None, 'term': 'python'},\n",
       " {'label': None, 'scheme': None, 'term': 'javascript'},\n",
       " {'label': None, 'scheme': None, 'term': 'linux'},\n",
       " {'label': None, 'scheme': None, 'term': 'python'},\n",
       " {'label': None, 'scheme': None, 'term': 'sql'},\n",
       " {'label': None, 'scheme': None, 'term': 'r'},\n",
       " {'label': None, 'scheme': None, 'term': 'testing'},\n",
       " {'label': None, 'scheme': None, 'term': 'python'}]"
      ]
     },
     "execution_count": 8,
     "metadata": {},
     "output_type": "execute_result"
    }
   ],
   "source": [
    "flat_tags[:10]"
   ]
  },
  {
   "cell_type": "code",
   "execution_count": 9,
   "metadata": {
    "collapsed": true
   },
   "outputs": [],
   "source": [
    "tags = [tag['term'] for tag in flat_tags]"
   ]
  },
  {
   "cell_type": "code",
   "execution_count": 10,
   "metadata": {},
   "outputs": [
    {
     "data": {
      "text/plain": [
       "['python',\n",
       " 'django',\n",
       " 'python',\n",
       " 'javascript',\n",
       " 'linux',\n",
       " 'python',\n",
       " 'sql',\n",
       " 'r',\n",
       " 'testing',\n",
       " 'python',\n",
       " 'api',\n",
       " 'jenkins',\n",
       " 'bash',\n",
       " 'testing',\n",
       " 'python',\n",
       " 'php',\n",
       " 'jenkins',\n",
       " 'ansible',\n",
       " 'python',\n",
       " 'django',\n",
       " 'postgresql',\n",
       " 'linux',\n",
       " 'c++',\n",
       " 'javascript',\n",
       " 'single-page-application']"
      ]
     },
     "execution_count": 10,
     "metadata": {},
     "output_type": "execute_result"
    }
   ],
   "source": [
    "tags[:25]"
   ]
  },
  {
   "cell_type": "code",
   "execution_count": 11,
   "metadata": {
    "collapsed": true
   },
   "outputs": [],
   "source": [
    "unique_tags = set(tags)"
   ]
  },
  {
   "cell_type": "code",
   "execution_count": 12,
   "metadata": {},
   "outputs": [
    {
     "data": {
      "text/plain": [
       "705"
      ]
     },
     "execution_count": 12,
     "metadata": {},
     "output_type": "execute_result"
    }
   ],
   "source": [
    "len(unique_tags)"
   ]
  },
  {
   "cell_type": "markdown",
   "metadata": {},
   "source": [
    "#### Use a counter to find the most popular tags"
   ]
  },
  {
   "cell_type": "code",
   "execution_count": 13,
   "metadata": {
    "collapsed": true
   },
   "outputs": [],
   "source": [
    "from collections import Counter"
   ]
  },
  {
   "cell_type": "code",
   "execution_count": 14,
   "metadata": {
    "collapsed": true
   },
   "outputs": [],
   "source": [
    "tag_counter = Counter()"
   ]
  },
  {
   "cell_type": "code",
   "execution_count": 15,
   "metadata": {
    "collapsed": true
   },
   "outputs": [],
   "source": [
    "for tag in tags:\n",
    "    tag_counter[tag] += 1"
   ]
  },
  {
   "cell_type": "code",
   "execution_count": 16,
   "metadata": {},
   "outputs": [
    {
     "data": {
      "text/plain": [
       "[('javascript', 275),\n",
       " ('python', 259),\n",
       " ('linux', 157),\n",
       " ('amazon-web-services', 126),\n",
       " ('php', 119),\n",
       " ('c#', 117),\n",
       " ('docker', 107),\n",
       " ('node.js', 103),\n",
       " ('reactjs', 103),\n",
       " ('c++', 99),\n",
       " ('mysql', 86),\n",
       " ('sysadmin', 82),\n",
       " ('git', 69),\n",
       " ('sql', 66),\n",
       " ('.net', 63),\n",
       " ('angularjs', 59),\n",
       " ('ruby-on-rails', 56),\n",
       " ('css', 56),\n",
       " ('ruby', 53),\n",
       " ('html', 48),\n",
       " ('jenkins', 44),\n",
       " ('go', 41),\n",
       " ('postgresql', 39),\n",
       " ('html5', 39),\n",
       " ('agile', 34),\n",
       " ('devops', 33),\n",
       " ('scala', 32),\n",
       " ('django', 31),\n",
       " ('c', 30),\n",
       " ('tdd', 29),\n",
       " ('mongodb', 28),\n",
       " ('puppet', 26),\n",
       " ('r', 25),\n",
       " ('css3', 25),\n",
       " ('continuous-integration', 24),\n",
       " ('rest', 24),\n",
       " ('asp.net-mvc', 24),\n",
       " ('testing', 23),\n",
       " ('machine-learning', 22),\n",
       " ('oop', 22),\n",
       " ('sql-server', 22),\n",
       " ('ansible', 21),\n",
       " ('hadoop', 21),\n",
       " ('elasticsearch', 21),\n",
       " ('jquery', 21),\n",
       " ('cloud', 20),\n",
       " ('azure', 19),\n",
       " ('microservices', 17),\n",
       " ('nosql', 17),\n",
       " ('typescript', 17),\n",
       " ('chef', 16),\n",
       " ('rabbitmq', 15),\n",
       " ('cassandra', 15),\n",
       " ('api', 14),\n",
       " ('unix', 14),\n",
       " ('jira', 14),\n",
       " ('kubernetes', 14),\n",
       " ('redux', 14),\n",
       " ('laravel', 14),\n",
       " ('android', 14),\n",
       " ('apache-spark', 13),\n",
       " ('embedded', 13),\n",
       " ('automated-tests', 13),\n",
       " ('ecmascript-6', 13),\n",
       " ('angular', 13),\n",
       " ('algorithm', 13),\n",
       " ('bash', 12),\n",
       " ('bigdata', 12),\n",
       " ('security', 11),\n",
       " ('json', 11),\n",
       " ('networking', 11),\n",
       " ('symfony', 11),\n",
       " ('spring', 11),\n",
       " ('http', 10),\n",
       " ('apache', 10),\n",
       " ('java-ee', 10),\n",
       " ('unit-testing', 10),\n",
       " ('etl', 9),\n",
       " ('automation', 9),\n",
       " ('qa', 9),\n",
       " ('ios', 9),\n",
       " ('asp.net', 9),\n",
       " ('react-native', 9),\n",
       " ('symfony2', 9),\n",
       " ('apache-kafka', 8),\n",
       " ('oracle', 8),\n",
       " ('scrum', 8),\n",
       " ('web-services', 8),\n",
       " ('redis', 8),\n",
       " ('drupal', 8),\n",
       " ('entity-framework', 8),\n",
       " ('ubuntu', 7),\n",
       " ('database', 7),\n",
       " ('selenium', 7),\n",
       " ('architecture', 7),\n",
       " ('qt', 7),\n",
       " ('solid-principles', 7),\n",
       " ('web', 7),\n",
       " ('react-redux', 7),\n",
       " ('nginx', 6),\n",
       " ('react', 6),\n",
       " ('computer-vision', 6),\n",
       " ('c++14', 6),\n",
       " ('hibernate', 6),\n",
       " ('xml', 6),\n",
       " ('less', 6),\n",
       " ('sass', 6),\n",
       " ('dns', 5),\n",
       " ('tcp', 5),\n",
       " ('deep-learning', 5),\n",
       " ('magento', 5),\n",
       " ('flask', 5),\n",
       " ('continuous-delivery', 5),\n",
       " ('pandas', 5),\n",
       " ('d3.js', 5),\n",
       " ('data-mining', 5),\n",
       " ('shell', 5),\n",
       " ('bdd', 5),\n",
       " ('windows', 5),\n",
       " ('statistics', 5),\n",
       " ('svn', 5),\n",
       " ('embedded-linux', 5),\n",
       " ('model-view-controller', 5),\n",
       " ('software', 5),\n",
       " ('aws', 5),\n",
       " ('.net-core', 5),\n",
       " ('visual-studio', 5),\n",
       " ('unity3d', 5),\n",
       " ('performance', 5),\n",
       " ('infrastructure', 5),\n",
       " ('backend', 5),\n",
       " ('spark', 4),\n",
       " ('engineer', 4),\n",
       " ('vmware', 4),\n",
       " ('windows-server', 4),\n",
       " ('powershell', 4),\n",
       " ('nlp', 4),\n",
       " ('mesos', 4),\n",
       " ('heroku', 4),\n",
       " ('debian', 4),\n",
       " ('elixir', 4),\n",
       " ('data-science', 4),\n",
       " ('webpack', 4),\n",
       " ('google-cloud-platform', 4),\n",
       " ('terraform', 4),\n",
       " ('scripting', 4),\n",
       " ('design-patterns', 4),\n",
       " ('vb.net', 4),\n",
       " ('project-management', 4),\n",
       " ('lamp', 4),\n",
       " ('wordpress', 4),\n",
       " ('functional-programming', 4),\n",
       " ('c++11', 4),\n",
       " ('wpf', 4),\n",
       " ('user-interface', 4),\n",
       " ('graphql', 4),\n",
       " ('tensorflow', 3),\n",
       " ('senior', 3),\n",
       " ('aws-lambda', 3),\n",
       " ('backbone.js', 3),\n",
       " ('salt-stack', 3),\n",
       " ('user-experience', 3),\n",
       " ('openstack', 3),\n",
       " ('ember.js', 3),\n",
       " ('amazon-redshift', 3),\n",
       " ('firewall', 3),\n",
       " ('centos', 3),\n",
       " ('uml', 3),\n",
       " ('confluence', 3),\n",
       " ('redhat', 3),\n",
       " ('maven', 3),\n",
       " ('nodejs', 3),\n",
       " ('junit', 3),\n",
       " ('osx', 3),\n",
       " ('matlab', 3),\n",
       " ('haskell', 3),\n",
       " ('vagrant', 3),\n",
       " ('phpunit', 3),\n",
       " ('integration-testing', 3),\n",
       " ('knockout.js', 3),\n",
       " ('akka', 3),\n",
       " ('php-7', 3),\n",
       " ('babeljs', 3),\n",
       " ('google-analytics', 3),\n",
       " ('mobile', 3),\n",
       " ('swift', 3),\n",
       " ('togaf', 3),\n",
       " ('vue.js', 3),\n",
       " ('single-page-application', 2),\n",
       " ('ajax', 2),\n",
       " ('cmake', 2),\n",
       " ('ip', 2),\n",
       " ('open-source', 2),\n",
       " ('communication', 2),\n",
       " ('github', 2),\n",
       " ('keras', 2),\n",
       " ('django-rest-framework', 2),\n",
       " ('celery', 2),\n",
       " ('content-management-system', 2),\n",
       " ('nagios', 2),\n",
       " ('kvm', 2),\n",
       " ('storage', 2),\n",
       " ('web-crawler', 2),\n",
       " ('haproxy', 2),\n",
       " ('continuous-deployment', 2),\n",
       " ('routing', 2),\n",
       " ('microcontroller', 2),\n",
       " ('video-streaming', 2),\n",
       " ('sas', 2),\n",
       " ('tfs', 2),\n",
       " ('software-engineering', 2),\n",
       " ('3d', 2),\n",
       " ('bamboo', 2),\n",
       " ('marathon', 2),\n",
       " ('python-3.x', 2),\n",
       " ('signal-processing', 2),\n",
       " ('latency', 2),\n",
       " ('wan', 2),\n",
       " ('containers', 2),\n",
       " ('amazon-ec2', 2),\n",
       " ('rust', 2),\n",
       " ('virtualization', 2),\n",
       " ('real-time', 2),\n",
       " ('jmeter', 2),\n",
       " ('owasp', 2),\n",
       " ('design', 2),\n",
       " ('pyramid', 2),\n",
       " ('development', 2),\n",
       " ('optimization', 2),\n",
       " ('yocto', 2),\n",
       " ('spring-boot', 2),\n",
       " ('robotics', 2),\n",
       " ('npm', 2),\n",
       " ('gulp', 2),\n",
       " ('linux-kernel', 2),\n",
       " ('reverse-engineering', 2),\n",
       " ('business-intelligence', 2),\n",
       " ('mvc', 2),\n",
       " ('android-espresso', 2),\n",
       " ('xhtml', 2),\n",
       " ('mapreduce', 2),\n",
       " ('coffeescript', 2),\n",
       " ('web-api', 2),\n",
       " ('cdn', 2),\n",
       " ('tableau', 2),\n",
       " ('serverless-framework', 2),\n",
       " ('drupal-7', 2),\n",
       " ('qml', 2),\n",
       " ('soap', 2),\n",
       " ('mvvm', 2),\n",
       " ('data-structures', 2),\n",
       " ('cloudfoundry', 2),\n",
       " ('paas', 2),\n",
       " ('events', 2),\n",
       " ('amazon-cloudformation', 2),\n",
       " ('tsql', 2),\n",
       " ('cqrs', 2),\n",
       " ('plsql', 2),\n",
       " ('atlassian', 2),\n",
       " ('meteor', 2),\n",
       " ('java-8', 2),\n",
       " ('kernel', 2),\n",
       " ('sinatra', 2),\n",
       " ('refactoring', 2),\n",
       " ('angular2', 2),\n",
       " ('phpstorm', 2),\n",
       " ('cvs', 2),\n",
       " ('bitcoin', 2),\n",
       " ('erlang', 2),\n",
       " ('cisco', 2),\n",
       " ('configuration-management', 2),\n",
       " ('jira-agile', 2),\n",
       " ('express', 2),\n",
       " ('websocket', 2),\n",
       " ('restful-architecture', 2),\n",
       " ('drupal-theming', 2),\n",
       " ('testng', 2),\n",
       " ('microsoft', 2),\n",
       " ('backlog', 2),\n",
       " ('frontend', 2),\n",
       " ('piwik', 2),\n",
       " ('rspec', 2),\n",
       " ('blockchain', 2),\n",
       " ('restful', 2),\n",
       " ('startup', 2),\n",
       " ('cross-platform', 2),\n",
       " ('bootstrap', 2),\n",
       " ('objective-c', 2),\n",
       " ('monitoring', 2),\n",
       " ('cordova', 2),\n",
       " ('fmea', 2),\n",
       " ('fta', 2),\n",
       " ('safety', 2),\n",
       " ('wcf', 2),\n",
       " ('rdbms', 2),\n",
       " ('symfony3', 2),\n",
       " ('https', 1),\n",
       " ('teamcity', 1),\n",
       " ('project-planning', 1),\n",
       " ('backup', 1),\n",
       " ('postgres', 1),\n",
       " ('slack', 1),\n",
       " ('gpu', 1),\n",
       " ('splunk', 1),\n",
       " ('apm', 1),\n",
       " ('datawarehouse', 1),\n",
       " ('zeromq', 1),\n",
       " ('google-app-engine', 1),\n",
       " ('keystonejs', 1),\n",
       " ('nas', 1),\n",
       " ('airflow', 1),\n",
       " ('theano', 1),\n",
       " ('scikit-learn', 1),\n",
       " ('websphere', 1),\n",
       " ('analyis', 1),\n",
       " ('pyspark', 1),\n",
       " ('qemu', 1),\n",
       " ('stanford-nlp', 1),\n",
       " ('opennlp', 1),\n",
       " ('web-scraping', 1),\n",
       " ('analytics', 1),\n",
       " ('deis', 1),\n",
       " ('tomcat', 1),\n",
       " ('jboss', 1),\n",
       " ('configuration', 1),\n",
       " ('amazon-ecs', 1),\n",
       " ('opennebula', 1),\n",
       " ('neural-network', 1),\n",
       " ('postgis', 1),\n",
       " ('sqlalchemy', 1),\n",
       " ('gnu', 1),\n",
       " ('gstreamer', 1),\n",
       " ('rpm', 1),\n",
       " ('deb', 1),\n",
       " ('ux', 1),\n",
       " ('ui', 1),\n",
       " ('lua', 1),\n",
       " ('gaming', 1),\n",
       " ('ranorex', 1),\n",
       " ('silktest', 1),\n",
       " ('email', 1),\n",
       " ('mesosphere', 1),\n",
       " ('restful-web-services', 1),\n",
       " ('high-traffic', 1),\n",
       " ('distributed-computing', 1),\n",
       " ('bgp', 1),\n",
       " ('device', 1),\n",
       " ('build', 1),\n",
       " ('zfs', 1),\n",
       " ('machine-learning-research', 1),\n",
       " ('data-scientist', 1),\n",
       " ('gaffer', 1),\n",
       " ('maya', 1),\n",
       " ('paper-trail-gem', 1),\n",
       " ('openshift', 1),\n",
       " ('titanium', 1),\n",
       " ('image-processing', 1),\n",
       " ('assembler', 1),\n",
       " ('pug', 1),\n",
       " ('google-compute-engine', 1),\n",
       " ('penetration-testing', 1),\n",
       " ('exploit', 1),\n",
       " ('esxi', 1),\n",
       " ('vcenter', 1),\n",
       " ('nsx', 1),\n",
       " ('vrealise', 1),\n",
       " ('mqtt', 1),\n",
       " ('iot', 1),\n",
       " ('firmware', 1),\n",
       " ('dba', 1),\n",
       " ('polymer', 1),\n",
       " ('site', 1),\n",
       " ('arm', 1),\n",
       " ('asp.net-web-api', 1),\n",
       " ('camera-calibration', 1),\n",
       " ('systems-administration', 1),\n",
       " ('dev-ops', 1),\n",
       " ('amazon-lambda', 1),\n",
       " ('amazon-kinesis', 1),\n",
       " ('rds', 1),\n",
       " ('redshift', 1),\n",
       " ('sqlqueries', 1),\n",
       " ('functional', 1),\n",
       " ('google-api', 1),\n",
       " ('graphite', 1),\n",
       " ('openmp', 1),\n",
       " ('mpi', 1),\n",
       " ('iaas', 1),\n",
       " ('nancy', 1),\n",
       " ('lex', 1),\n",
       " ('ci', 1),\n",
       " ('auth0', 1),\n",
       " ('ssis', 1),\n",
       " ('cluster-computing', 1),\n",
       " ('posix', 1),\n",
       " ('unreal', 1),\n",
       " ('engine', 1),\n",
       " ('salt', 1),\n",
       " ('system-administration', 1),\n",
       " ('cocoa', 1),\n",
       " ('paperjs', 1),\n",
       " ('three.js', 1),\n",
       " ('network-security', 1),\n",
       " ('zend-framework', 1),\n",
       " ('soapui', 1),\n",
       " ('rest-assured', 1),\n",
       " ('cd', 1),\n",
       " ('opengl', 1),\n",
       " ('robotium', 1),\n",
       " ('bokeh', 1),\n",
       " ('jupyter', 1),\n",
       " ('hive', 1),\n",
       " ('x86', 1),\n",
       " ('web-technologies', 1),\n",
       " ('alteryx', 1),\n",
       " ('navision', 1),\n",
       " ('sqlserver', 1),\n",
       " ('dynamics-nav', 1),\n",
       " ('microsoft-dynamics-nav', 1),\n",
       " ('playframework', 1),\n",
       " ('slick', 1),\n",
       " ('odata', 1),\n",
       " ('vr', 1),\n",
       " ('augmented-reality', 1),\n",
       " ('gis', 1),\n",
       " ('slam', 1),\n",
       " ('point-clouds', 1),\n",
       " ('low-level', 1),\n",
       " ('beats', 1),\n",
       " ('stl', 1),\n",
       " ('stateless', 1),\n",
       " ('unity', 1),\n",
       " ('domain-driven-design', 1),\n",
       " ('amzon-web-services', 1),\n",
       " ('grafana', 1),\n",
       " ('cakephp', 1),\n",
       " ('metlab', 1),\n",
       " ('swift3', 1),\n",
       " ('hbase', 1),\n",
       " ('data-warehouse', 1),\n",
       " ('boost', 1),\n",
       " ('sourcecode', 1),\n",
       " ('server-administration', 1),\n",
       " ('plugins', 1),\n",
       " ('add-on', 1),\n",
       " ('lan', 1),\n",
       " ('automated-deployment', 1),\n",
       " ('graphic-design', 1),\n",
       " ('cloudformation', 1),\n",
       " ('amazon-vpc', 1),\n",
       " ('solution', 1),\n",
       " ('architecting', 1),\n",
       " ('optimisation', 1),\n",
       " ('angular.js', 1),\n",
       " ('asp.net-mvc-4', 1),\n",
       " ('autosar', 1),\n",
       " ('basic', 1),\n",
       " ('pair-programming', 1),\n",
       " ('bots', 1),\n",
       " ('chatbot', 1),\n",
       " ('hlsl', 1),\n",
       " ('graphics', 1),\n",
       " ('visualization', 1),\n",
       " ('connectivity', 1),\n",
       " ('model-driven-development', 1),\n",
       " ('api-design', 1),\n",
       " ('android-sdk-tools', 1),\n",
       " ('es6-promise', 1),\n",
       " ('laravel-5.3', 1),\n",
       " ('logging', 1),\n",
       " ('opc-ua', 1),\n",
       " ('armv7', 1),\n",
       " ('vpn', 1),\n",
       " ('winforms', 1),\n",
       " ('visual-c++', 1),\n",
       " ('release', 1),\n",
       " ('orm', 1),\n",
       " ('autoscaling', 1),\n",
       " ('netsuite', 1),\n",
       " ('oauth', 1),\n",
       " ('git-flow', 1),\n",
       " ('firebase', 1),\n",
       " ('rx-java', 1),\n",
       " ('android-studio', 1),\n",
       " ('applikationsserver', 1),\n",
       " ('architektur', 1),\n",
       " ('webgl', 1),\n",
       " ('canvas', 1),\n",
       " ('hazelcast', 1),\n",
       " ('log4net', 1),\n",
       " ('object-oriented-analysis', 1),\n",
       " ('ada', 1),\n",
       " ('gtk', 1),\n",
       " ('qnx', 1),\n",
       " ('compiler-construction', 1),\n",
       " ('ms-office', 1),\n",
       " ('wpc', 1),\n",
       " ('oms', 1),\n",
       " ('sap', 1),\n",
       " ('architect', 1),\n",
       " ('f#', 1),\n",
       " ('vba', 1),\n",
       " ('erp', 1),\n",
       " ('ms-access', 1),\n",
       " ('soa', 1),\n",
       " ('amazon-dynamodb', 1),\n",
       " ('ramda.js', 1),\n",
       " ('web-applications', 1),\n",
       " ('server', 1),\n",
       " ('ldap', 1),\n",
       " ('jpa', 1),\n",
       " ('jax-ws', 1),\n",
       " ('jax-rs', 1),\n",
       " ('sw', 1),\n",
       " ('frameworks', 1),\n",
       " ('elasticsearch-plugin', 1),\n",
       " ('drupal-modules', 1),\n",
       " ('selenium-webdriver', 1),\n",
       " ('testlink', 1),\n",
       " ('appium', 1),\n",
       " ('exchange-server', 1),\n",
       " ('seo', 1),\n",
       " ('searchmetrics', 1),\n",
       " ('screamingfrog', 1),\n",
       " ('spring-mvc', 1),\n",
       " ('php5', 1),\n",
       " ('datavault', 1),\n",
       " ('cross-browser', 1),\n",
       " ('salesforce', 1),\n",
       " ('end-to-end-delivery', 1),\n",
       " ('payment-gateway', 1),\n",
       " ('saas', 1),\n",
       " ('tcp-ip', 1),\n",
       " ('broadcasting', 1),\n",
       " ('ruby-on-rails-4', 1),\n",
       " ('adobe-analytics', 1),\n",
       " ('qos', 1),\n",
       " ('ssl', 1),\n",
       " ('ipsec', 1),\n",
       " ('iso', 1),\n",
       " ('vlan', 1),\n",
       " ('azure-cloud-management', 1),\n",
       " ('powershell-scripts', 1),\n",
       " ('iis', 1),\n",
       " ('trading', 1),\n",
       " ('cucumber', 1),\n",
       " ('product-management', 1),\n",
       " ('mysqli', 1),\n",
       " ('mobx', 1),\n",
       " ('mobx-react', 1),\n",
       " ('electron', 1),\n",
       " ('ethereum', 1),\n",
       " ('twitter-bootstrap-4', 1),\n",
       " ('kotlin', 1),\n",
       " ('zend', 1),\n",
       " ('haxe', 1),\n",
       " ('jvm', 1),\n",
       " ('sbt', 1),\n",
       " ('infra', 1),\n",
       " ('front-end', 1),\n",
       " ('mocha', 1),\n",
       " ('phalcon', 1),\n",
       " ('uipath', 1),\n",
       " ('dynamics-crm-2011', 1),\n",
       " ('collaboration', 1),\n",
       " ('code-igniter', 1),\n",
       " ('dodaf', 1),\n",
       " ('zigbee', 1),\n",
       " ('backbone', 1),\n",
       " ('babel', 1),\n",
       " ('xcode', 1),\n",
       " ('workspace', 1),\n",
       " ('dependency-injection', 1),\n",
       " ('data', 1),\n",
       " ('center', 1),\n",
       " ('network', 1),\n",
       " ('html5-canvas', 1),\n",
       " ('manual-testing', 1),\n",
       " ('software-quality', 1),\n",
       " ('butterknife', 1),\n",
       " ('retrofit', 1),\n",
       " ('extjs', 1),\n",
       " ('jquery-mobile', 1),\n",
       " ('shared-libraries', 1),\n",
       " ('android-ndk', 1),\n",
       " ('sharepoint', 1),\n",
       " ('episerver', 1),\n",
       " ('mariadb', 1),\n",
       " ('e-commerce', 1),\n",
       " ('database-administration', 1),\n",
       " ('web-component', 1),\n",
       " ('performance-testing', 1),\n",
       " ('loadrunner', 1),\n",
       " ('stress-testing', 1),\n",
       " ('java8', 1),\n",
       " ('dropwizard', 1),\n",
       " ('na', 1),\n",
       " ('cloudwatch', 1),\n",
       " ('aws-code-deploy', 1),\n",
       " ('enterprise-architect', 1),\n",
       " ('enterprise', 1),\n",
       " ('informatica', 1),\n",
       " ('mongoose', 1),\n",
       " ('flux', 1),\n",
       " ('flow', 1),\n",
       " ('prometheus', 1),\n",
       " ('pgtap', 1),\n",
       " ('liquibase', 1),\n",
       " ('postgresql-9.6', 1),\n",
       " ('yarn', 1),\n",
       " ('responsive-design', 1),\n",
       " ('mq', 1),\n",
       " ('solr', 1),\n",
       " ('search', 1),\n",
       " ('lucene', 1),\n",
       " ('active-directory', 1),\n",
       " ('virtual-machine', 1),\n",
       " ('eventsourcing', 1),\n",
       " ('msdynamics', 1),\n",
       " ('qlikview', 1),\n",
       " ('reporting-services', 1),\n",
       " ('qliksense', 1),\n",
       " ('.net-4.0', 1),\n",
       " ('cpu', 1),\n",
       " ('lodash', 1),\n",
       " ('robotframework', 1),\n",
       " ('burpsuite', 1),\n",
       " ('kali-linux', 1),\n",
       " ('nmap', 1),\n",
       " ('phoenix-framework', 1),\n",
       " ('7', 1),\n",
       " ('fpga', 1),\n",
       " ('verilog', 1),\n",
       " ('vhdl', 1),\n",
       " ('asic', 1),\n",
       " ('hardware', 1),\n",
       " ('message-queue', 1),\n",
       " ('relayjs', 1),\n",
       " ('es6', 1),\n",
       " ('2', 1),\n",
       " ('database-performance', 1),\n",
       " ('indexing', 1),\n",
       " ('stored-procedures', 1),\n",
       " ('sitecore8', 1),\n",
       " ('java89', 1),\n",
       " ('.net-4.6', 1),\n",
       " ('scripting-language', 1),\n",
       " ('google-chrome', 1),\n",
       " ('google-chrome-extension', 1),\n",
       " ('google-drive-sdk', 1),\n",
       " ('webapi', 1),\n",
       " ('robotik', 1),\n",
       " ('markov', 1),\n",
       " ('fahrdynamik', 1),\n",
       " ('fahrerassistenz', 1),\n",
       " ('biztalk', 1),\n",
       " ('vbulletin', 1),\n",
       " ('webrtc', 1),\n",
       " ('coldfusion', 1),\n",
       " ('interface', 1),\n",
       " ('zend-framework2', 1),\n",
       " ('laravel-4', 1),\n",
       " ('aws-api-gateway', 1),\n",
       " ('vanilla', 1),\n",
       " ('kanban', 1),\n",
       " ('lean', 1),\n",
       " ('xamarin', 1),\n",
       " ('xamarin.ios', 1),\n",
       " ('xamarin.android', 1),\n",
       " ('xamarin.forms', 1),\n",
       " ('unreal-engine4', 1),\n",
       " ('pinvoke', 1),\n",
       " ('concrete5', 1),\n",
       " ('twitter-bootstrap', 1),\n",
       " ('swagger', 1),\n",
       " ('ravendb', 1),\n",
       " ('immutable.js', 1),\n",
       " ('uat', 1),\n",
       " ('network-programming', 1),\n",
       " ('microstrategy', 1),\n",
       " ('vaadin', 1),\n",
       " ('systems-administrator', 1),\n",
       " ('lavarel', 1),\n",
       " ('sgbd', 1),\n",
       " ('load-balancing', 1),\n",
       " ('javscript', 1),\n",
       " ('can', 1),\n",
       " ('bus', 1),\n",
       " ('mockups', 1),\n",
       " ('team', 1),\n",
       " ('lead', 1),\n",
       " ('jsf', 1),\n",
       " ('wildfly', 1),\n",
       " ('typo3', 1),\n",
       " ('hhvm', 1),\n",
       " ('ibm', 1),\n",
       " ('compiler-optimization', 1),\n",
       " ('static-analysis', 1),\n",
       " ('parsing', 1),\n",
       " ('developer', 1),\n",
       " ('software-engineer', 1),\n",
       " ('aspice', 1),\n",
       " ('arangodb', 1),\n",
       " ('deployment', 1),\n",
       " ('hdfs', 1)]"
      ]
     },
     "execution_count": 16,
     "metadata": {},
     "output_type": "execute_result"
    }
   ],
   "source": [
    "tag_counter.most_common()"
   ]
  },
  {
   "cell_type": "code",
   "execution_count": 17,
   "metadata": {
    "collapsed": true
   },
   "outputs": [],
   "source": [
    "tag_counter.most_common?"
   ]
  },
  {
   "cell_type": "code",
   "execution_count": 18,
   "metadata": {},
   "outputs": [
    {
     "data": {
      "text/plain": [
       "[('javascript', 275),\n",
       " ('python', 259),\n",
       " ('linux', 157),\n",
       " ('amazon-web-services', 126),\n",
       " ('php', 119),\n",
       " ('c#', 117),\n",
       " ('docker', 107),\n",
       " ('node.js', 103),\n",
       " ('reactjs', 103),\n",
       " ('c++', 99),\n",
       " ('mysql', 86),\n",
       " ('sysadmin', 82),\n",
       " ('git', 69),\n",
       " ('sql', 66),\n",
       " ('.net', 63),\n",
       " ('angularjs', 59),\n",
       " ('ruby-on-rails', 56),\n",
       " ('css', 56),\n",
       " ('ruby', 53),\n",
       " ('html', 48),\n",
       " ('jenkins', 44),\n",
       " ('go', 41),\n",
       " ('postgresql', 39),\n",
       " ('html5', 39),\n",
       " ('agile', 34)]"
      ]
     },
     "execution_count": 18,
     "metadata": {},
     "output_type": "execute_result"
    }
   ],
   "source": [
    "tag_counter.most_common(n=25)"
   ]
  },
  {
   "cell_type": "markdown",
   "metadata": {},
   "source": [
    "#### Get the most common skills associated with `python`"
   ]
  },
  {
   "cell_type": "code",
   "execution_count": 19,
   "metadata": {
    "collapsed": true
   },
   "outputs": [],
   "source": [
    "jobs_dict = {}\n",
    "for job in tagged_jobs:\n",
    "    jobs_dict[job['id']] = [tag['term'] for tag in job['tags']]"
   ]
  },
  {
   "cell_type": "code",
   "execution_count": 20,
   "metadata": {},
   "outputs": [
    {
     "data": {
      "text/plain": [
       "[('132873', ['python', 'django']),\n",
       " ('144259', ['python', 'javascript', 'linux']),\n",
       " ('144421', ['python', 'sql', 'r']),\n",
       " ('144255', ['testing', 'python', 'api', 'jenkins', 'bash']),\n",
       " ('141725', ['testing', 'python', 'php', 'jenkins', 'ansible']),\n",
       " ('140321', ['python', 'django', 'postgresql', 'linux', 'c++']),\n",
       " ('143404', ['javascript', 'single-page-application', 'https', 'dns', 'ajax']),\n",
       " ('136002', ['cmake', 'teamcity', 'jenkins', 'python', 'linux']),\n",
       " ('143630', ['linux', 'security', 'tcp', 'ip']),\n",
       " ('129481', ['python', 'angularjs', 'javascript', 'postgresql', 'html'])]"
      ]
     },
     "execution_count": 20,
     "metadata": {},
     "output_type": "execute_result"
    }
   ],
   "source": [
    "list(jobs_dict.items())[:10]"
   ]
  },
  {
   "cell_type": "code",
   "execution_count": 21,
   "metadata": {
    "collapsed": true
   },
   "outputs": [],
   "source": [
    "python_jobs = [jobs_dict[id] for id in jobs_dict if 'python' in jobs_dict[id]]"
   ]
  },
  {
   "cell_type": "code",
   "execution_count": 22,
   "metadata": {
    "collapsed": true
   },
   "outputs": [],
   "source": [
    "python_tag_counter = Counter()"
   ]
  },
  {
   "cell_type": "code",
   "execution_count": 23,
   "metadata": {
    "collapsed": true
   },
   "outputs": [],
   "source": [
    "for job in python_jobs:\n",
    "    for tag in job:\n",
    "        if not tag == 'python': python_tag_counter[tag] += 1"
   ]
  },
  {
   "cell_type": "code",
   "execution_count": 24,
   "metadata": {},
   "outputs": [
    {
     "data": {
      "text/plain": [
       "[('c++', 55),\n",
       " ('javascript', 51),\n",
       " ('linux', 49),\n",
       " ('amazon-web-services', 41),\n",
       " ('postgresql', 28),\n",
       " ('docker', 28),\n",
       " ('django', 27),\n",
       " ('sysadmin', 25),\n",
       " ('sql', 23),\n",
       " ('r', 18),\n",
       " ('php', 18),\n",
       " ('ruby', 18),\n",
       " ('go', 18),\n",
       " ('mysql', 17),\n",
       " ('node.js', 17),\n",
       " ('c', 17),\n",
       " ('devops', 14),\n",
       " ('c#', 14),\n",
       " ('angularjs', 13),\n",
       " ('hadoop', 13),\n",
       " ('machine-learning', 12),\n",
       " ('.net', 10),\n",
       " ('testing', 9),\n",
       " ('jenkins', 9),\n",
       " ('scala', 9)]"
      ]
     },
     "execution_count": 24,
     "metadata": {},
     "output_type": "execute_result"
    }
   ],
   "source": [
    "python_tag_counter.most_common(25)"
   ]
  },
  {
   "cell_type": "code",
   "execution_count": 25,
   "metadata": {
    "collapsed": true
   },
   "outputs": [],
   "source": [
    "def get_related_skills(skill, n):\n",
    "    skill_jobs = [jobs_dict[id] for id in jobs_dict if skill in jobs_dict[id]]\n",
    "    \n",
    "    skill_tag_counter = Counter()\n",
    "    \n",
    "    for job in skill_jobs:\n",
    "        for tag in job:\n",
    "            if not tag == skill: skill_tag_counter[tag] += 1\n",
    "            \n",
    "    return [x[0] for x in skill_tag_counter.most_common(n)]"
   ]
  },
  {
   "cell_type": "code",
   "execution_count": 26,
   "metadata": {},
   "outputs": [
    {
     "data": {
      "text/plain": [
       "['python', 'sysadmin', 'c++', 'docker', 'amazon-web-services']"
      ]
     },
     "execution_count": 26,
     "metadata": {},
     "output_type": "execute_result"
    }
   ],
   "source": [
    "get_related_skills('linux', 5)"
   ]
  },
  {
   "cell_type": "code",
   "execution_count": 27,
   "metadata": {},
   "outputs": [
    {
     "data": {
      "text/plain": [
       "['amazon-web-services',\n",
       " 'linux',\n",
       " 'python',\n",
       " 'sysadmin',\n",
       " 'jenkins',\n",
       " 'puppet',\n",
       " 'node.js',\n",
       " 'ansible',\n",
       " 'kubernetes',\n",
       " 'devops']"
      ]
     },
     "execution_count": 27,
     "metadata": {},
     "output_type": "execute_result"
    }
   ],
   "source": [
    "get_related_skills('docker', 10)"
   ]
  },
  {
   "cell_type": "code",
   "execution_count": null,
   "metadata": {
    "collapsed": true
   },
   "outputs": [],
   "source": []
  }
 ],
 "metadata": {
  "kernelspec": {
   "display_name": "Python 3",
   "language": "python",
   "name": "python3"
  },
  "language_info": {
   "codemirror_mode": {
    "name": "ipython",
    "version": 3
   },
   "file_extension": ".py",
   "mimetype": "text/x-python",
   "name": "python",
   "nbconvert_exporter": "python",
   "pygments_lexer": "ipython3",
   "version": "3.6.1"
  }
 },
 "nbformat": 4,
 "nbformat_minor": 2
}
