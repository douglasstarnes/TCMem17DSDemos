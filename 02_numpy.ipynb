{
 "cells": [
  {
   "cell_type": "code",
   "execution_count": 1,
   "metadata": {
    "collapsed": true
   },
   "outputs": [],
   "source": [
    "import numpy as np"
   ]
  },
  {
   "cell_type": "markdown",
   "metadata": {},
   "source": [
    "Create a list"
   ]
  },
  {
   "cell_type": "code",
   "execution_count": 2,
   "metadata": {
    "collapsed": true
   },
   "outputs": [],
   "source": [
    "primes = [2, 3, 5, 7, 11, 13, 17]"
   ]
  },
  {
   "cell_type": "markdown",
   "metadata": {},
   "source": [
    "Append a string to the list.  This won't raise an error."
   ]
  },
  {
   "cell_type": "code",
   "execution_count": 3,
   "metadata": {
    "collapsed": true
   },
   "outputs": [],
   "source": [
    "primes.append('hello')"
   ]
  },
  {
   "cell_type": "markdown",
   "metadata": {},
   "source": [
    "Until we try to do something like this because the exponent operator doesn't work with strings."
   ]
  },
  {
   "cell_type": "code",
   "execution_count": 4,
   "metadata": {},
   "outputs": [
    {
     "name": "stdout",
     "output_type": "stream",
     "text": [
      "unsupported operand type(s) for ** or pow(): 'str' and 'int'\n"
     ]
    }
   ],
   "source": [
    "try:\n",
    "    squares = [x ** 2 for x in primes]\n",
    "    print(squares)\n",
    "except TypeError as e:\n",
    "    print(e)"
   ]
  },
  {
   "cell_type": "markdown",
   "metadata": {},
   "source": [
    "So we can filter out everything that is not an integer"
   ]
  },
  {
   "cell_type": "code",
   "execution_count": 5,
   "metadata": {
    "collapsed": true
   },
   "outputs": [],
   "source": [
    "squares = [x ** 2 for x in primes if isinstance(x, int)]"
   ]
  },
  {
   "cell_type": "markdown",
   "metadata": {},
   "source": [
    "But don't forget floats!"
   ]
  },
  {
   "cell_type": "code",
   "execution_count": 6,
   "metadata": {
    "collapsed": true
   },
   "outputs": [],
   "source": [
    "squares = [x ** 2 for x in primes if isinstance(x, (int, float))]"
   ]
  },
  {
   "cell_type": "code",
   "execution_count": 7,
   "metadata": {},
   "outputs": [
    {
     "data": {
      "text/plain": [
       "[4, 9, 25, 49, 121, 169, 289]"
      ]
     },
     "execution_count": 7,
     "metadata": {},
     "output_type": "execute_result"
    }
   ],
   "source": [
    "squares"
   ]
  },
  {
   "cell_type": "markdown",
   "metadata": {},
   "source": [
    "Let's try this with a `numpy` array instead"
   ]
  },
  {
   "cell_type": "code",
   "execution_count": 8,
   "metadata": {
    "collapsed": true
   },
   "outputs": [],
   "source": [
    "np_primes = np.array(primes[:-1])"
   ]
  },
  {
   "cell_type": "code",
   "execution_count": 9,
   "metadata": {},
   "outputs": [
    {
     "data": {
      "text/plain": [
       "array([ 2,  3,  5,  7, 11, 13, 17])"
      ]
     },
     "execution_count": 9,
     "metadata": {},
     "output_type": "execute_result"
    }
   ],
   "source": [
    "np_primes"
   ]
  },
  {
   "cell_type": "markdown",
   "metadata": {},
   "source": [
    "Arrays must be of a homogenous data type"
   ]
  },
  {
   "cell_type": "code",
   "execution_count": 10,
   "metadata": {},
   "outputs": [
    {
     "data": {
      "text/plain": [
       "numpy.ndarray"
      ]
     },
     "execution_count": 10,
     "metadata": {},
     "output_type": "execute_result"
    }
   ],
   "source": [
    "type(np_primes)"
   ]
  },
  {
   "cell_type": "code",
   "execution_count": 11,
   "metadata": {},
   "outputs": [
    {
     "data": {
      "text/plain": [
       "dtype('int64')"
      ]
     },
     "execution_count": 11,
     "metadata": {},
     "output_type": "execute_result"
    }
   ],
   "source": [
    "np_primes.dtype"
   ]
  },
  {
   "cell_type": "markdown",
   "metadata": {},
   "source": [
    "But they still act a lot like lists"
   ]
  },
  {
   "cell_type": "code",
   "execution_count": 12,
   "metadata": {},
   "outputs": [
    {
     "data": {
      "text/plain": [
       "array([ 2,  3,  5,  7, 11, 13, 17, 19, 23])"
      ]
     },
     "execution_count": 12,
     "metadata": {},
     "output_type": "execute_result"
    }
   ],
   "source": [
    "np.append(np_primes, np.array([19, 23]))"
   ]
  },
  {
   "cell_type": "code",
   "execution_count": 13,
   "metadata": {},
   "outputs": [
    {
     "data": {
      "text/plain": [
       "dtype('int64')"
      ]
     },
     "execution_count": 13,
     "metadata": {},
     "output_type": "execute_result"
    }
   ],
   "source": [
    "_.dtype"
   ]
  },
  {
   "cell_type": "markdown",
   "metadata": {},
   "source": [
    "But what happens if we try to add a float (not an int)"
   ]
  },
  {
   "cell_type": "code",
   "execution_count": 14,
   "metadata": {},
   "outputs": [
    {
     "data": {
      "text/plain": [
       "array([  2.  ,   3.  ,   5.  ,   7.  ,  11.  ,  13.  ,  17.  ,  19.  ,\n",
       "        23.  ,   3.14])"
      ]
     },
     "execution_count": 14,
     "metadata": {},
     "output_type": "execute_result"
    }
   ],
   "source": [
    "np.append(np_primes, np.array([19, 23, 3.14]))"
   ]
  },
  {
   "cell_type": "code",
   "execution_count": 15,
   "metadata": {},
   "outputs": [
    {
     "data": {
      "text/plain": [
       "dtype('float64')"
      ]
     },
     "execution_count": 15,
     "metadata": {},
     "output_type": "execute_result"
    }
   ],
   "source": [
    "_.dtype"
   ]
  },
  {
   "cell_type": "markdown",
   "metadata": {},
   "source": [
    "Ok, that makes sense.  Now let's try a string"
   ]
  },
  {
   "cell_type": "code",
   "execution_count": 16,
   "metadata": {},
   "outputs": [
    {
     "data": {
      "text/plain": [
       "array(['2', '3', '5', '7', '11', '13', '17', '19', '23', '3.14', 'foo'], \n",
       "      dtype='<U32')"
      ]
     },
     "execution_count": 16,
     "metadata": {},
     "output_type": "execute_result"
    }
   ],
   "source": [
    "np.append(np_primes, np.array([19, 23, 3.14, 'foo']))"
   ]
  },
  {
   "cell_type": "code",
   "execution_count": 17,
   "metadata": {},
   "outputs": [
    {
     "data": {
      "text/plain": [
       "dtype('<U32')"
      ]
     },
     "execution_count": 17,
     "metadata": {},
     "output_type": "execute_result"
    }
   ],
   "source": [
    "_.dtype"
   ]
  },
  {
   "cell_type": "markdown",
   "metadata": {},
   "source": [
    "This doesn't raise an error either, but instead coerces the types to be alike."
   ]
  },
  {
   "cell_type": "code",
   "execution_count": 18,
   "metadata": {},
   "outputs": [
    {
     "data": {
      "text/plain": [
       "array([2, 3, 5, 7, 11, 13, 17, 19, 23, 3.14, 'foo', None, True], dtype=object)"
      ]
     },
     "execution_count": 18,
     "metadata": {},
     "output_type": "execute_result"
    }
   ],
   "source": [
    "np.append(np_primes, np.array([19, 23, 3.14, 'foo', None, True]))"
   ]
  },
  {
   "cell_type": "code",
   "execution_count": 19,
   "metadata": {},
   "outputs": [
    {
     "data": {
      "text/plain": [
       "dtype('O')"
      ]
     },
     "execution_count": 19,
     "metadata": {},
     "output_type": "execute_result"
    }
   ],
   "source": [
    "_.dtype"
   ]
  },
  {
   "cell_type": "markdown",
   "metadata": {},
   "source": [
    "So in the extreme case, numpy gives up and makes everything an object (the root type)"
   ]
  },
  {
   "cell_type": "markdown",
   "metadata": {},
   "source": [
    "numpy also mirrors the built-in range function"
   ]
  },
  {
   "cell_type": "code",
   "execution_count": 20,
   "metadata": {
    "collapsed": true
   },
   "outputs": [],
   "source": [
    "A = np.arange(64, dtype=np.float64)"
   ]
  },
  {
   "cell_type": "code",
   "execution_count": 21,
   "metadata": {},
   "outputs": [
    {
     "data": {
      "text/plain": [
       "array([  0.,   1.,   2.,   3.,   4.,   5.,   6.,   7.,   8.,   9.,  10.,\n",
       "        11.,  12.,  13.,  14.,  15.,  16.,  17.,  18.,  19.,  20.,  21.,\n",
       "        22.,  23.,  24.,  25.,  26.,  27.,  28.,  29.,  30.,  31.,  32.,\n",
       "        33.,  34.,  35.,  36.,  37.,  38.,  39.,  40.,  41.,  42.,  43.,\n",
       "        44.,  45.,  46.,  47.,  48.,  49.,  50.,  51.,  52.,  53.,  54.,\n",
       "        55.,  56.,  57.,  58.,  59.,  60.,  61.,  62.,  63.])"
      ]
     },
     "execution_count": 21,
     "metadata": {},
     "output_type": "execute_result"
    }
   ],
   "source": [
    "A"
   ]
  },
  {
   "cell_type": "markdown",
   "metadata": {},
   "source": [
    "Arrays have a shape"
   ]
  },
  {
   "cell_type": "code",
   "execution_count": 22,
   "metadata": {},
   "outputs": [
    {
     "data": {
      "text/plain": [
       "(64,)"
      ]
     },
     "execution_count": 22,
     "metadata": {},
     "output_type": "execute_result"
    }
   ],
   "source": [
    "A.shape"
   ]
  },
  {
   "cell_type": "markdown",
   "metadata": {},
   "source": [
    "This shape can be multi-dimensional"
   ]
  },
  {
   "cell_type": "code",
   "execution_count": 23,
   "metadata": {
    "collapsed": true
   },
   "outputs": [],
   "source": [
    "A_prime = A.reshape((4, 2, 8))"
   ]
  },
  {
   "cell_type": "code",
   "execution_count": 24,
   "metadata": {},
   "outputs": [
    {
     "data": {
      "text/plain": [
       "array([[[  0.,   1.,   2.,   3.,   4.,   5.,   6.,   7.],\n",
       "        [  8.,   9.,  10.,  11.,  12.,  13.,  14.,  15.]],\n",
       "\n",
       "       [[ 16.,  17.,  18.,  19.,  20.,  21.,  22.,  23.],\n",
       "        [ 24.,  25.,  26.,  27.,  28.,  29.,  30.,  31.]],\n",
       "\n",
       "       [[ 32.,  33.,  34.,  35.,  36.,  37.,  38.,  39.],\n",
       "        [ 40.,  41.,  42.,  43.,  44.,  45.,  46.,  47.]],\n",
       "\n",
       "       [[ 48.,  49.,  50.,  51.,  52.,  53.,  54.,  55.],\n",
       "        [ 56.,  57.,  58.,  59.,  60.,  61.,  62.,  63.]]])"
      ]
     },
     "execution_count": 24,
     "metadata": {},
     "output_type": "execute_result"
    }
   ],
   "source": [
    "A_prime"
   ]
  },
  {
   "cell_type": "markdown",
   "metadata": {},
   "source": [
    "Accessing elements in the array by index is similar to that of the list"
   ]
  },
  {
   "cell_type": "code",
   "execution_count": 25,
   "metadata": {},
   "outputs": [
    {
     "data": {
      "text/plain": [
       "array([[ 32.,  33.,  34.,  35.,  36.,  37.,  38.,  39.],\n",
       "       [ 40.,  41.,  42.,  43.,  44.,  45.,  46.,  47.]])"
      ]
     },
     "execution_count": 25,
     "metadata": {},
     "output_type": "execute_result"
    }
   ],
   "source": [
    "A_prime[2]"
   ]
  },
  {
   "cell_type": "code",
   "execution_count": 26,
   "metadata": {},
   "outputs": [
    {
     "data": {
      "text/plain": [
       "array([ 40.,  41.,  42.,  43.,  44.,  45.,  46.,  47.])"
      ]
     },
     "execution_count": 26,
     "metadata": {},
     "output_type": "execute_result"
    }
   ],
   "source": [
    "A_prime[2, 1]"
   ]
  },
  {
   "cell_type": "code",
   "execution_count": 27,
   "metadata": {},
   "outputs": [
    {
     "data": {
      "text/plain": [
       "45.0"
      ]
     },
     "execution_count": 27,
     "metadata": {},
     "output_type": "execute_result"
    }
   ],
   "source": [
    "A_prime[2, 1, 5]"
   ]
  },
  {
   "cell_type": "markdown",
   "metadata": {},
   "source": [
    "But we can also choose specific dimensions"
   ]
  },
  {
   "cell_type": "code",
   "execution_count": 28,
   "metadata": {},
   "outputs": [
    {
     "data": {
      "text/plain": [
       "array([[  3.,  11.],\n",
       "       [ 19.,  27.],\n",
       "       [ 35.,  43.],\n",
       "       [ 51.,  59.]])"
      ]
     },
     "execution_count": 28,
     "metadata": {},
     "output_type": "execute_result"
    }
   ],
   "source": [
    "A_prime[:, :, 3]"
   ]
  },
  {
   "cell_type": "markdown",
   "metadata": {},
   "source": [
    "Works with slicing too!"
   ]
  },
  {
   "cell_type": "code",
   "execution_count": 29,
   "metadata": {},
   "outputs": [
    {
     "data": {
      "text/plain": [
       "array([[[ 19.,  20.],\n",
       "        [ 27.,  28.]],\n",
       "\n",
       "       [[ 35.,  36.],\n",
       "        [ 43.,  44.]]])"
      ]
     },
     "execution_count": 29,
     "metadata": {},
     "output_type": "execute_result"
    }
   ],
   "source": [
    "A_prime[1:3, :, 3:5]"
   ]
  },
  {
   "cell_type": "code",
   "execution_count": 30,
   "metadata": {},
   "outputs": [
    {
     "data": {
      "text/plain": [
       "array([[ 32.,  33.,  34.,  35.,  36.,  37.,  38.,  39.],\n",
       "       [ 40.,  41.,  42.,  43.,  44.,  45.,  46.,  47.]])"
      ]
     },
     "execution_count": 30,
     "metadata": {},
     "output_type": "execute_result"
    }
   ],
   "source": [
    "A_prime[2, :, :]"
   ]
  },
  {
   "cell_type": "markdown",
   "metadata": {},
   "source": [
    "Generate evenly spaced values"
   ]
  },
  {
   "cell_type": "code",
   "execution_count": 31,
   "metadata": {},
   "outputs": [
    {
     "data": {
      "text/plain": [
       "array([  0.,   1.,   2.,   3.,   4.,   5.,   6.,   7.,   8.,   9.,  10.])"
      ]
     },
     "execution_count": 31,
     "metadata": {},
     "output_type": "execute_result"
    }
   ],
   "source": [
    "np.linspace(0, 10, 11)"
   ]
  },
  {
   "cell_type": "code",
   "execution_count": 32,
   "metadata": {},
   "outputs": [
    {
     "data": {
      "text/plain": [
       "array([  0.,   1.,   2.,   3.,   4.,   5.,   6.,   7.,   8.,   9.,  10.])"
      ]
     },
     "execution_count": 32,
     "metadata": {},
     "output_type": "execute_result"
    }
   ],
   "source": [
    "np.arange(0, 11, dtype=np.float64)"
   ]
  },
  {
   "cell_type": "code",
   "execution_count": 33,
   "metadata": {},
   "outputs": [
    {
     "data": {
      "text/plain": [
       "array([  0. ,   0.1,   0.2,   0.3,   0.4,   0.5,   0.6,   0.7,   0.8,\n",
       "         0.9,   1. ,   1.1,   1.2,   1.3,   1.4,   1.5,   1.6,   1.7,\n",
       "         1.8,   1.9,   2. ,   2.1,   2.2,   2.3,   2.4,   2.5,   2.6,\n",
       "         2.7,   2.8,   2.9,   3. ,   3.1,   3.2,   3.3,   3.4,   3.5,\n",
       "         3.6,   3.7,   3.8,   3.9,   4. ,   4.1,   4.2,   4.3,   4.4,\n",
       "         4.5,   4.6,   4.7,   4.8,   4.9,   5. ,   5.1,   5.2,   5.3,\n",
       "         5.4,   5.5,   5.6,   5.7,   5.8,   5.9,   6. ,   6.1,   6.2,\n",
       "         6.3,   6.4,   6.5,   6.6,   6.7,   6.8,   6.9,   7. ,   7.1,\n",
       "         7.2,   7.3,   7.4,   7.5,   7.6,   7.7,   7.8,   7.9,   8. ,\n",
       "         8.1,   8.2,   8.3,   8.4,   8.5,   8.6,   8.7,   8.8,   8.9,\n",
       "         9. ,   9.1,   9.2,   9.3,   9.4,   9.5,   9.6,   9.7,   9.8,\n",
       "         9.9,  10. ])"
      ]
     },
     "execution_count": 33,
     "metadata": {},
     "output_type": "execute_result"
    }
   ],
   "source": [
    "np.linspace(0, 10, 101)"
   ]
  },
  {
   "cell_type": "code",
   "execution_count": 34,
   "metadata": {},
   "outputs": [
    {
     "data": {
      "text/plain": [
       "array([  0. ,   0.1,   0.2,   0.3,   0.4,   0.5,   0.6,   0.7,   0.8,\n",
       "         0.9,   1. ,   1.1,   1.2,   1.3,   1.4,   1.5,   1.6,   1.7,\n",
       "         1.8,   1.9,   2. ,   2.1,   2.2,   2.3,   2.4,   2.5,   2.6,\n",
       "         2.7,   2.8,   2.9,   3. ,   3.1,   3.2,   3.3,   3.4,   3.5,\n",
       "         3.6,   3.7,   3.8,   3.9,   4. ,   4.1,   4.2,   4.3,   4.4,\n",
       "         4.5,   4.6,   4.7,   4.8,   4.9,   5. ,   5.1,   5.2,   5.3,\n",
       "         5.4,   5.5,   5.6,   5.7,   5.8,   5.9,   6. ,   6.1,   6.2,\n",
       "         6.3,   6.4,   6.5,   6.6,   6.7,   6.8,   6.9,   7. ,   7.1,\n",
       "         7.2,   7.3,   7.4,   7.5,   7.6,   7.7,   7.8,   7.9,   8. ,\n",
       "         8.1,   8.2,   8.3,   8.4,   8.5,   8.6,   8.7,   8.8,   8.9,\n",
       "         9. ,   9.1,   9.2,   9.3,   9.4,   9.5,   9.6,   9.7,   9.8,\n",
       "         9.9,  10. ])"
      ]
     },
     "execution_count": 34,
     "metadata": {},
     "output_type": "execute_result"
    }
   ],
   "source": [
    "np.arange(0, 10.1, .1)"
   ]
  },
  {
   "cell_type": "code",
   "execution_count": 35,
   "metadata": {},
   "outputs": [
    {
     "data": {
      "text/plain": [
       "array([ 17.    ,  18.7625,  20.525 ,  22.2875,  24.05  ,  25.8125,\n",
       "        27.575 ,  29.3375,  31.1   ,  32.8625,  34.625 ,  36.3875,\n",
       "        38.15  ,  39.9125,  41.675 ,  43.4375,  45.2   ])"
      ]
     },
     "execution_count": 35,
     "metadata": {},
     "output_type": "execute_result"
    }
   ],
   "source": [
    "np.linspace(17, 45.2, 17)"
   ]
  },
  {
   "cell_type": "code",
   "execution_count": 36,
   "metadata": {},
   "outputs": [
    {
     "data": {
      "text/plain": [
       "array([ 0.        ,  0.01745329,  0.03490659,  0.05235988,  0.06981317,\n",
       "        0.08726646,  0.10471976,  0.12217305,  0.13962634,  0.15707963,\n",
       "        0.17453293,  0.19198622,  0.20943951,  0.2268928 ,  0.2443461 ,\n",
       "        0.26179939,  0.27925268,  0.29670597,  0.31415927,  0.33161256,\n",
       "        0.34906585,  0.36651914,  0.38397244,  0.40142573,  0.41887902,\n",
       "        0.43633231,  0.45378561,  0.4712389 ,  0.48869219,  0.50614548,\n",
       "        0.52359878,  0.54105207,  0.55850536,  0.57595865,  0.59341195,\n",
       "        0.61086524,  0.62831853,  0.64577182,  0.66322512,  0.68067841,\n",
       "        0.6981317 ,  0.71558499,  0.73303829,  0.75049158,  0.76794487,\n",
       "        0.78539816,  0.80285146,  0.82030475,  0.83775804,  0.85521133,\n",
       "        0.87266463,  0.89011792,  0.90757121,  0.9250245 ,  0.9424778 ,\n",
       "        0.95993109,  0.97738438,  0.99483767,  1.01229097,  1.02974426,\n",
       "        1.04719755,  1.06465084,  1.08210414,  1.09955743,  1.11701072,\n",
       "        1.13446401,  1.15191731,  1.1693706 ,  1.18682389,  1.20427718,\n",
       "        1.22173048,  1.23918377,  1.25663706,  1.27409035,  1.29154365,\n",
       "        1.30899694,  1.32645023,  1.34390352,  1.36135682,  1.37881011,\n",
       "        1.3962634 ,  1.41371669,  1.43116999,  1.44862328,  1.46607657,\n",
       "        1.48352986,  1.50098316,  1.51843645,  1.53588974,  1.55334303,\n",
       "        1.57079633,  1.58824962,  1.60570291,  1.6231562 ,  1.6406095 ,\n",
       "        1.65806279,  1.67551608,  1.69296937,  1.71042267,  1.72787596,\n",
       "        1.74532925,  1.76278254,  1.78023584,  1.79768913,  1.81514242,\n",
       "        1.83259571,  1.85004901,  1.8675023 ,  1.88495559,  1.90240888,\n",
       "        1.91986218,  1.93731547,  1.95476876,  1.97222205,  1.98967535,\n",
       "        2.00712864,  2.02458193,  2.04203522,  2.05948852,  2.07694181,\n",
       "        2.0943951 ,  2.11184839,  2.12930169,  2.14675498,  2.16420827,\n",
       "        2.18166156,  2.19911486,  2.21656815,  2.23402144,  2.25147474,\n",
       "        2.26892803,  2.28638132,  2.30383461,  2.32128791,  2.3387412 ,\n",
       "        2.35619449,  2.37364778,  2.39110108,  2.40855437,  2.42600766,\n",
       "        2.44346095,  2.46091425,  2.47836754,  2.49582083,  2.51327412,\n",
       "        2.53072742,  2.54818071,  2.565634  ,  2.58308729,  2.60054059,\n",
       "        2.61799388,  2.63544717,  2.65290046,  2.67035376,  2.68780705,\n",
       "        2.70526034,  2.72271363,  2.74016693,  2.75762022,  2.77507351,\n",
       "        2.7925268 ,  2.8099801 ,  2.82743339,  2.84488668,  2.86233997,\n",
       "        2.87979327,  2.89724656,  2.91469985,  2.93215314,  2.94960644,\n",
       "        2.96705973,  2.98451302,  3.00196631,  3.01941961,  3.0368729 ,\n",
       "        3.05432619,  3.07177948,  3.08923278,  3.10668607,  3.12413936,\n",
       "        3.14159265,  3.15904595,  3.17649924,  3.19395253,  3.21140582,\n",
       "        3.22885912,  3.24631241,  3.2637657 ,  3.28121899,  3.29867229,\n",
       "        3.31612558,  3.33357887,  3.35103216,  3.36848546,  3.38593875,\n",
       "        3.40339204,  3.42084533,  3.43829863,  3.45575192,  3.47320521,\n",
       "        3.4906585 ,  3.5081118 ,  3.52556509,  3.54301838,  3.56047167,\n",
       "        3.57792497,  3.59537826,  3.61283155,  3.63028484,  3.64773814,\n",
       "        3.66519143,  3.68264472,  3.70009801,  3.71755131,  3.7350046 ,\n",
       "        3.75245789,  3.76991118,  3.78736448,  3.80481777,  3.82227106,\n",
       "        3.83972435,  3.85717765,  3.87463094,  3.89208423,  3.90953752,\n",
       "        3.92699082,  3.94444411,  3.9618974 ,  3.97935069,  3.99680399,\n",
       "        4.01425728,  4.03171057,  4.04916386,  4.06661716,  4.08407045,\n",
       "        4.10152374,  4.11897703,  4.13643033,  4.15388362,  4.17133691,\n",
       "        4.1887902 ,  4.2062435 ,  4.22369679,  4.24115008,  4.25860337,\n",
       "        4.27605667,  4.29350996,  4.31096325,  4.32841654,  4.34586984,\n",
       "        4.36332313,  4.38077642,  4.39822972,  4.41568301,  4.4331363 ,\n",
       "        4.45058959,  4.46804289,  4.48549618,  4.50294947,  4.52040276,\n",
       "        4.53785606,  4.55530935,  4.57276264,  4.59021593,  4.60766923,\n",
       "        4.62512252,  4.64257581,  4.6600291 ,  4.6774824 ,  4.69493569,\n",
       "        4.71238898,  4.72984227,  4.74729557,  4.76474886,  4.78220215,\n",
       "        4.79965544,  4.81710874,  4.83456203,  4.85201532,  4.86946861,\n",
       "        4.88692191,  4.9043752 ,  4.92182849,  4.93928178,  4.95673508,\n",
       "        4.97418837,  4.99164166,  5.00909495,  5.02654825,  5.04400154,\n",
       "        5.06145483,  5.07890812,  5.09636142,  5.11381471,  5.131268  ,\n",
       "        5.14872129,  5.16617459,  5.18362788,  5.20108117,  5.21853446,\n",
       "        5.23598776,  5.25344105,  5.27089434,  5.28834763,  5.30580093,\n",
       "        5.32325422,  5.34070751,  5.3581608 ,  5.3756141 ,  5.39306739,\n",
       "        5.41052068,  5.42797397,  5.44542727,  5.46288056,  5.48033385,\n",
       "        5.49778714,  5.51524044,  5.53269373,  5.55014702,  5.56760031,\n",
       "        5.58505361,  5.6025069 ,  5.61996019,  5.63741348,  5.65486678,\n",
       "        5.67232007,  5.68977336,  5.70722665,  5.72467995,  5.74213324,\n",
       "        5.75958653,  5.77703982,  5.79449312,  5.81194641,  5.8293997 ,\n",
       "        5.84685299,  5.86430629,  5.88175958,  5.89921287,  5.91666616,\n",
       "        5.93411946,  5.95157275,  5.96902604,  5.98647933,  6.00393263,\n",
       "        6.02138592,  6.03883921,  6.0562925 ,  6.0737458 ,  6.09119909,\n",
       "        6.10865238,  6.12610567,  6.14355897,  6.16101226,  6.17846555,\n",
       "        6.19591884,  6.21337214,  6.23082543,  6.24827872,  6.26573201,\n",
       "        6.28318531])"
      ]
     },
     "execution_count": 36,
     "metadata": {},
     "output_type": "execute_result"
    }
   ],
   "source": [
    "np.linspace(0, np.pi*2, 361)"
   ]
  },
  {
   "cell_type": "code",
   "execution_count": 37,
   "metadata": {
    "collapsed": true
   },
   "outputs": [],
   "source": [
    "x = _"
   ]
  },
  {
   "cell_type": "code",
   "execution_count": 38,
   "metadata": {
    "collapsed": true
   },
   "outputs": [],
   "source": [
    "y = np.sin(x)"
   ]
  },
  {
   "cell_type": "code",
   "execution_count": 39,
   "metadata": {},
   "outputs": [
    {
     "data": {
      "text/plain": [
       "array([  0.00000000e+00,   1.74524064e-02,   3.48994967e-02,\n",
       "         5.23359562e-02,   6.97564737e-02,   8.71557427e-02,\n",
       "         1.04528463e-01,   1.21869343e-01,   1.39173101e-01,\n",
       "         1.56434465e-01,   1.73648178e-01,   1.90808995e-01,\n",
       "         2.07911691e-01,   2.24951054e-01,   2.41921896e-01,\n",
       "         2.58819045e-01,   2.75637356e-01,   2.92371705e-01,\n",
       "         3.09016994e-01,   3.25568154e-01,   3.42020143e-01,\n",
       "         3.58367950e-01,   3.74606593e-01,   3.90731128e-01,\n",
       "         4.06736643e-01,   4.22618262e-01,   4.38371147e-01,\n",
       "         4.53990500e-01,   4.69471563e-01,   4.84809620e-01,\n",
       "         5.00000000e-01,   5.15038075e-01,   5.29919264e-01,\n",
       "         5.44639035e-01,   5.59192903e-01,   5.73576436e-01,\n",
       "         5.87785252e-01,   6.01815023e-01,   6.15661475e-01,\n",
       "         6.29320391e-01,   6.42787610e-01,   6.56059029e-01,\n",
       "         6.69130606e-01,   6.81998360e-01,   6.94658370e-01,\n",
       "         7.07106781e-01,   7.19339800e-01,   7.31353702e-01,\n",
       "         7.43144825e-01,   7.54709580e-01,   7.66044443e-01,\n",
       "         7.77145961e-01,   7.88010754e-01,   7.98635510e-01,\n",
       "         8.09016994e-01,   8.19152044e-01,   8.29037573e-01,\n",
       "         8.38670568e-01,   8.48048096e-01,   8.57167301e-01,\n",
       "         8.66025404e-01,   8.74619707e-01,   8.82947593e-01,\n",
       "         8.91006524e-01,   8.98794046e-01,   9.06307787e-01,\n",
       "         9.13545458e-01,   9.20504853e-01,   9.27183855e-01,\n",
       "         9.33580426e-01,   9.39692621e-01,   9.45518576e-01,\n",
       "         9.51056516e-01,   9.56304756e-01,   9.61261696e-01,\n",
       "         9.65925826e-01,   9.70295726e-01,   9.74370065e-01,\n",
       "         9.78147601e-01,   9.81627183e-01,   9.84807753e-01,\n",
       "         9.87688341e-01,   9.90268069e-01,   9.92546152e-01,\n",
       "         9.94521895e-01,   9.96194698e-01,   9.97564050e-01,\n",
       "         9.98629535e-01,   9.99390827e-01,   9.99847695e-01,\n",
       "         1.00000000e+00,   9.99847695e-01,   9.99390827e-01,\n",
       "         9.98629535e-01,   9.97564050e-01,   9.96194698e-01,\n",
       "         9.94521895e-01,   9.92546152e-01,   9.90268069e-01,\n",
       "         9.87688341e-01,   9.84807753e-01,   9.81627183e-01,\n",
       "         9.78147601e-01,   9.74370065e-01,   9.70295726e-01,\n",
       "         9.65925826e-01,   9.61261696e-01,   9.56304756e-01,\n",
       "         9.51056516e-01,   9.45518576e-01,   9.39692621e-01,\n",
       "         9.33580426e-01,   9.27183855e-01,   9.20504853e-01,\n",
       "         9.13545458e-01,   9.06307787e-01,   8.98794046e-01,\n",
       "         8.91006524e-01,   8.82947593e-01,   8.74619707e-01,\n",
       "         8.66025404e-01,   8.57167301e-01,   8.48048096e-01,\n",
       "         8.38670568e-01,   8.29037573e-01,   8.19152044e-01,\n",
       "         8.09016994e-01,   7.98635510e-01,   7.88010754e-01,\n",
       "         7.77145961e-01,   7.66044443e-01,   7.54709580e-01,\n",
       "         7.43144825e-01,   7.31353702e-01,   7.19339800e-01,\n",
       "         7.07106781e-01,   6.94658370e-01,   6.81998360e-01,\n",
       "         6.69130606e-01,   6.56059029e-01,   6.42787610e-01,\n",
       "         6.29320391e-01,   6.15661475e-01,   6.01815023e-01,\n",
       "         5.87785252e-01,   5.73576436e-01,   5.59192903e-01,\n",
       "         5.44639035e-01,   5.29919264e-01,   5.15038075e-01,\n",
       "         5.00000000e-01,   4.84809620e-01,   4.69471563e-01,\n",
       "         4.53990500e-01,   4.38371147e-01,   4.22618262e-01,\n",
       "         4.06736643e-01,   3.90731128e-01,   3.74606593e-01,\n",
       "         3.58367950e-01,   3.42020143e-01,   3.25568154e-01,\n",
       "         3.09016994e-01,   2.92371705e-01,   2.75637356e-01,\n",
       "         2.58819045e-01,   2.41921896e-01,   2.24951054e-01,\n",
       "         2.07911691e-01,   1.90808995e-01,   1.73648178e-01,\n",
       "         1.56434465e-01,   1.39173101e-01,   1.21869343e-01,\n",
       "         1.04528463e-01,   8.71557427e-02,   6.97564737e-02,\n",
       "         5.23359562e-02,   3.48994967e-02,   1.74524064e-02,\n",
       "         1.22464680e-16,  -1.74524064e-02,  -3.48994967e-02,\n",
       "        -5.23359562e-02,  -6.97564737e-02,  -8.71557427e-02,\n",
       "        -1.04528463e-01,  -1.21869343e-01,  -1.39173101e-01,\n",
       "        -1.56434465e-01,  -1.73648178e-01,  -1.90808995e-01,\n",
       "        -2.07911691e-01,  -2.24951054e-01,  -2.41921896e-01,\n",
       "        -2.58819045e-01,  -2.75637356e-01,  -2.92371705e-01,\n",
       "        -3.09016994e-01,  -3.25568154e-01,  -3.42020143e-01,\n",
       "        -3.58367950e-01,  -3.74606593e-01,  -3.90731128e-01,\n",
       "        -4.06736643e-01,  -4.22618262e-01,  -4.38371147e-01,\n",
       "        -4.53990500e-01,  -4.69471563e-01,  -4.84809620e-01,\n",
       "        -5.00000000e-01,  -5.15038075e-01,  -5.29919264e-01,\n",
       "        -5.44639035e-01,  -5.59192903e-01,  -5.73576436e-01,\n",
       "        -5.87785252e-01,  -6.01815023e-01,  -6.15661475e-01,\n",
       "        -6.29320391e-01,  -6.42787610e-01,  -6.56059029e-01,\n",
       "        -6.69130606e-01,  -6.81998360e-01,  -6.94658370e-01,\n",
       "        -7.07106781e-01,  -7.19339800e-01,  -7.31353702e-01,\n",
       "        -7.43144825e-01,  -7.54709580e-01,  -7.66044443e-01,\n",
       "        -7.77145961e-01,  -7.88010754e-01,  -7.98635510e-01,\n",
       "        -8.09016994e-01,  -8.19152044e-01,  -8.29037573e-01,\n",
       "        -8.38670568e-01,  -8.48048096e-01,  -8.57167301e-01,\n",
       "        -8.66025404e-01,  -8.74619707e-01,  -8.82947593e-01,\n",
       "        -8.91006524e-01,  -8.98794046e-01,  -9.06307787e-01,\n",
       "        -9.13545458e-01,  -9.20504853e-01,  -9.27183855e-01,\n",
       "        -9.33580426e-01,  -9.39692621e-01,  -9.45518576e-01,\n",
       "        -9.51056516e-01,  -9.56304756e-01,  -9.61261696e-01,\n",
       "        -9.65925826e-01,  -9.70295726e-01,  -9.74370065e-01,\n",
       "        -9.78147601e-01,  -9.81627183e-01,  -9.84807753e-01,\n",
       "        -9.87688341e-01,  -9.90268069e-01,  -9.92546152e-01,\n",
       "        -9.94521895e-01,  -9.96194698e-01,  -9.97564050e-01,\n",
       "        -9.98629535e-01,  -9.99390827e-01,  -9.99847695e-01,\n",
       "        -1.00000000e+00,  -9.99847695e-01,  -9.99390827e-01,\n",
       "        -9.98629535e-01,  -9.97564050e-01,  -9.96194698e-01,\n",
       "        -9.94521895e-01,  -9.92546152e-01,  -9.90268069e-01,\n",
       "        -9.87688341e-01,  -9.84807753e-01,  -9.81627183e-01,\n",
       "        -9.78147601e-01,  -9.74370065e-01,  -9.70295726e-01,\n",
       "        -9.65925826e-01,  -9.61261696e-01,  -9.56304756e-01,\n",
       "        -9.51056516e-01,  -9.45518576e-01,  -9.39692621e-01,\n",
       "        -9.33580426e-01,  -9.27183855e-01,  -9.20504853e-01,\n",
       "        -9.13545458e-01,  -9.06307787e-01,  -8.98794046e-01,\n",
       "        -8.91006524e-01,  -8.82947593e-01,  -8.74619707e-01,\n",
       "        -8.66025404e-01,  -8.57167301e-01,  -8.48048096e-01,\n",
       "        -8.38670568e-01,  -8.29037573e-01,  -8.19152044e-01,\n",
       "        -8.09016994e-01,  -7.98635510e-01,  -7.88010754e-01,\n",
       "        -7.77145961e-01,  -7.66044443e-01,  -7.54709580e-01,\n",
       "        -7.43144825e-01,  -7.31353702e-01,  -7.19339800e-01,\n",
       "        -7.07106781e-01,  -6.94658370e-01,  -6.81998360e-01,\n",
       "        -6.69130606e-01,  -6.56059029e-01,  -6.42787610e-01,\n",
       "        -6.29320391e-01,  -6.15661475e-01,  -6.01815023e-01,\n",
       "        -5.87785252e-01,  -5.73576436e-01,  -5.59192903e-01,\n",
       "        -5.44639035e-01,  -5.29919264e-01,  -5.15038075e-01,\n",
       "        -5.00000000e-01,  -4.84809620e-01,  -4.69471563e-01,\n",
       "        -4.53990500e-01,  -4.38371147e-01,  -4.22618262e-01,\n",
       "        -4.06736643e-01,  -3.90731128e-01,  -3.74606593e-01,\n",
       "        -3.58367950e-01,  -3.42020143e-01,  -3.25568154e-01,\n",
       "        -3.09016994e-01,  -2.92371705e-01,  -2.75637356e-01,\n",
       "        -2.58819045e-01,  -2.41921896e-01,  -2.24951054e-01,\n",
       "        -2.07911691e-01,  -1.90808995e-01,  -1.73648178e-01,\n",
       "        -1.56434465e-01,  -1.39173101e-01,  -1.21869343e-01,\n",
       "        -1.04528463e-01,  -8.71557427e-02,  -6.97564737e-02,\n",
       "        -5.23359562e-02,  -3.48994967e-02,  -1.74524064e-02,\n",
       "        -2.44929360e-16])"
      ]
     },
     "execution_count": 39,
     "metadata": {},
     "output_type": "execute_result"
    }
   ],
   "source": [
    "y"
   ]
  },
  {
   "cell_type": "code",
   "execution_count": 40,
   "metadata": {
    "collapsed": true
   },
   "outputs": [],
   "source": [
    "n = list(range(10))\n",
    "p = list(range(5, 15))\n",
    "\n",
    "N = np.array(n)\n",
    "P = np.array(p)"
   ]
  },
  {
   "cell_type": "markdown",
   "metadata": {},
   "source": [
    "Adding to lists concatenates them"
   ]
  },
  {
   "cell_type": "code",
   "execution_count": 41,
   "metadata": {},
   "outputs": [
    {
     "data": {
      "text/plain": [
       "[0, 1, 2, 3, 4, 5, 6, 7, 8, 9, 5, 6, 7, 8, 9, 10, 11, 12, 13, 14]"
      ]
     },
     "execution_count": 41,
     "metadata": {},
     "output_type": "execute_result"
    }
   ],
   "source": [
    "n + p"
   ]
  },
  {
   "cell_type": "markdown",
   "metadata": {},
   "source": [
    "Adding two arrays does an element wise addition"
   ]
  },
  {
   "cell_type": "code",
   "execution_count": 42,
   "metadata": {},
   "outputs": [
    {
     "data": {
      "text/plain": [
       "array([ 5,  7,  9, 11, 13, 15, 17, 19, 21, 23])"
      ]
     },
     "execution_count": 42,
     "metadata": {},
     "output_type": "execute_result"
    }
   ],
   "source": [
    "N + P"
   ]
  },
  {
   "cell_type": "markdown",
   "metadata": {},
   "source": [
    "Or adds a scalar value to each element in the array"
   ]
  },
  {
   "cell_type": "code",
   "execution_count": 43,
   "metadata": {},
   "outputs": [
    {
     "data": {
      "text/plain": [
       "array([10, 11, 12, 13, 14, 15, 16, 17, 18, 19])"
      ]
     },
     "execution_count": 43,
     "metadata": {},
     "output_type": "execute_result"
    }
   ],
   "source": [
    "N + 10"
   ]
  },
  {
   "cell_type": "code",
   "execution_count": 44,
   "metadata": {},
   "outputs": [
    {
     "data": {
      "text/plain": [
       "array([ 0.2       ,  0.16666667,  0.14285714,  0.125     ,  0.11111111,\n",
       "        0.1       ,  0.09090909,  0.08333333,  0.07692308,  0.07142857])"
      ]
     },
     "execution_count": 44,
     "metadata": {},
     "output_type": "execute_result"
    }
   ],
   "source": [
    "1 / P"
   ]
  },
  {
   "cell_type": "markdown",
   "metadata": {},
   "source": [
    "The following three cells do the same thing"
   ]
  },
  {
   "cell_type": "code",
   "execution_count": 45,
   "metadata": {},
   "outputs": [
    {
     "data": {
      "text/plain": [
       "[0, 1, 4, 9, 16, 25, 36, 49, 64, 81]"
      ]
     },
     "execution_count": 45,
     "metadata": {},
     "output_type": "execute_result"
    }
   ],
   "source": [
    "squares = []\n",
    "for x in range(10):\n",
    "    squares.append(x ** 2)\n",
    "squares"
   ]
  },
  {
   "cell_type": "code",
   "execution_count": 46,
   "metadata": {},
   "outputs": [
    {
     "data": {
      "text/plain": [
       "[0, 1, 4, 9, 16, 25, 36, 49, 64, 81]"
      ]
     },
     "execution_count": 46,
     "metadata": {},
     "output_type": "execute_result"
    }
   ],
   "source": [
    "list(map(lambda x: x ** 2, range(10)))\n"
   ]
  },
  {
   "cell_type": "code",
   "execution_count": 47,
   "metadata": {},
   "outputs": [
    {
     "data": {
      "text/plain": [
       "[0, 1, 4, 9, 16, 25, 36, 49, 64, 81]"
      ]
     },
     "execution_count": 47,
     "metadata": {},
     "output_type": "execute_result"
    }
   ],
   "source": [
    "[x ** 2 for x in range(10)]"
   ]
  },
  {
   "cell_type": "code",
   "execution_count": 48,
   "metadata": {},
   "outputs": [
    {
     "data": {
      "text/plain": [
       "array([ 0,  1,  4,  9, 16, 25, 36, 49, 64, 81])"
      ]
     },
     "execution_count": 48,
     "metadata": {},
     "output_type": "execute_result"
    }
   ],
   "source": [
    "np.arange(10) ** 2"
   ]
  },
  {
   "cell_type": "markdown",
   "metadata": {},
   "source": [
    "Filtering"
   ]
  },
  {
   "cell_type": "code",
   "execution_count": 49,
   "metadata": {},
   "outputs": [
    {
     "data": {
      "text/plain": [
       "array([60, 48, 26,  8, 27, 57, 53, 72, 21,  8, 54, 68, 90,  2, 76, 47, 76,\n",
       "       32, 25, 75, 67, 36,  7,  2, 54])"
      ]
     },
     "execution_count": 49,
     "metadata": {},
     "output_type": "execute_result"
    }
   ],
   "source": [
    "data = np.random.randint(1, 101, size = 25)\n",
    "data"
   ]
  },
  {
   "cell_type": "code",
   "execution_count": 50,
   "metadata": {},
   "outputs": [
    {
     "data": {
      "text/plain": [
       "array([False,  True,  True,  True,  True, False, False, False,  True,\n",
       "        True, False, False, False,  True, False,  True, False,  True,\n",
       "        True, False, False,  True,  True,  True, False], dtype=bool)"
      ]
     },
     "execution_count": 50,
     "metadata": {},
     "output_type": "execute_result"
    }
   ],
   "source": [
    "data < 50"
   ]
  },
  {
   "cell_type": "code",
   "execution_count": 51,
   "metadata": {},
   "outputs": [
    {
     "data": {
      "text/plain": [
       "array([48, 26,  8, 27, 21,  8,  2, 47, 32, 25, 36,  7,  2])"
      ]
     },
     "execution_count": 51,
     "metadata": {},
     "output_type": "execute_result"
    }
   ],
   "source": [
    "data[data < 50]"
   ]
  },
  {
   "cell_type": "code",
   "execution_count": null,
   "metadata": {
    "collapsed": true
   },
   "outputs": [],
   "source": []
  }
 ],
 "metadata": {
  "kernelspec": {
   "display_name": "Python 3",
   "language": "python",
   "name": "python3"
  },
  "language_info": {
   "codemirror_mode": {
    "name": "ipython",
    "version": 3
   },
   "file_extension": ".py",
   "mimetype": "text/x-python",
   "name": "python",
   "nbconvert_exporter": "python",
   "pygments_lexer": "ipython3",
   "version": "3.6.1"
  }
 },
 "nbformat": 4,
 "nbformat_minor": 2
}
